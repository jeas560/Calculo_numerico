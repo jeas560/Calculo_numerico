{
 "metadata": {
  "language_info": {
   "codemirror_mode": {
    "name": "ipython",
    "version": 3
   },
   "file_extension": ".py",
   "mimetype": "text/x-python",
   "name": "python",
   "nbconvert_exporter": "python",
   "pygments_lexer": "ipython3",
   "version": "3.8.5-final"
  },
  "orig_nbformat": 2,
  "kernelspec": {
   "name": "python3",
   "display_name": "Python 3",
   "language": "python"
  }
 },
 "nbformat": 4,
 "nbformat_minor": 2,
 "cells": [
  {
   "source": [
    "***\n",
    "# Algoritmo do Método de Newton\n",
    "***\n",
    "\n",
    "1. Definindo as constantes:\n",
    "        $$\n",
    "        \\mbox{tol} = 10.0^{-5}\\\\\n",
    "        \\mbox{max_iter} = 10\\\\\n",
    "        \\mbox{k} = 0\\\\\n",
    "        \\mbox{valor_inicial} = 1.5 \n",
    "        $$\n",
    "\n",
    "2. Inicializando as variaveis:\n",
    "        $$\n",
    "        \\mbox{x}\\_\\mbox{k} = \\mbox{valor_inicial}\\\\\n",
    "        \\mbox{erro}\\_\\mbox{relativo} = 1.0\n",
    "        $$\n",
    "        \n",
    "3. Enquanto $ ( \\mbox{erro}\\_\\mbox{relativo} > \\mbox{tol}) $ e $ ( \\mbox{k} < \\mbox{max}\\_\\mbox{iter}) $:\n",
    "        $$\n",
    "        \\mbox{x}\\_\\mbox{k}\\_1 = \\mbox{x}\\_\\mbox{k} - \\mbox{f} (\\mbox{x}\\_\\mbox{k})/\\mbox{f}\\_\\mbox{linha} (\\mbox{x}\\_\\mbox{k}) \\\\\n",
    "        \\mbox{k} = \\mbox{k} + 1 \\\\\n",
    "        \\mbox{erro}\\_\\mbox{relativo} = \\frac{ | \\mbox{x}\\_\\mbox{k}\\_1 - \\mbox{x}\\_\\mbox{k} |} {| \\mbox{x}\\_\\mbox{k}\\_1 |} \\\\\n",
    "        \\mbox{x}\\_\\mbox{k} = \\mbox{x}\\_\\mbox{k}\\_1\n",
    "        $$\n",
    "        \n",
    "4. Saída $\\mbox{x}\\_\\mbox{k}\\_1$\n",
    "\n",
    "***"
   ],
   "cell_type": "markdown",
   "metadata": {}
  },
  {
   "cell_type": "code",
   "execution_count": null,
   "metadata": {},
   "outputs": [],
   "source": [
    "#Importando as bibliotecas utilizadas\n",
    "import numpy as np\n",
    "\n",
    "#Definir as constantes\n",
    "tol = 10.0**(-5)\n",
    "max_iter = 10\n",
    "k = 0\n",
    "valor_inicial = 1.5\n",
    "\n",
    "#Definindo um erro relativo para iniciar as iterações\n",
    "erro_relativo = 1.0\n",
    "\n",
    "#Definir o valor inicial em [1.5,2.5]\n",
    "x_k = valor_inicial\n",
    "print(\"O valor inicial eh: \", valor_inicial)"
   ]
  },
  {
   "cell_type": "code",
   "execution_count": null,
   "metadata": {},
   "outputs": [],
   "source": [
    "#Definindo as funções f(x) = x^2 - x - 2 e f'(x) = 2x - 1\n",
    "def f(x):\n",
    "    return x**2 - x - 2\n",
    "\n",
    "def f_linha(x):\n",
    "    return 2*x - 1"
   ]
  },
  {
   "cell_type": "code",
   "execution_count": null,
   "metadata": {},
   "outputs": [],
   "source": [
    "#Metodo de Newton\n",
    "while (erro_relativo > tol) and (k < max_iter):\n",
    "    \n",
    "    x_k_1 = x_k_1 = x_k - f(x_k)/f_linha(x_k)\n",
    "\n",
    "    #Atualizando o numero do passo\n",
    "    k = k + 1\n",
    "\n",
    "    #Calculando o erro relativo\n",
    "    erro_relativo = np.absolute(x_k_1 - x_k)/np.absolute(x_k_1)\n",
    "    \n",
    "    #Atualizando o valor de x_k para a proxima iteração\n",
    "    x_k = x_k_1\n",
    "\n",
    "    #Printando o valor e passo\n",
    "    print(\"Iteracao:\", k,\", Valor aproximado:\", x_k_1, \", Erro relativo:\", erro_relativo)"
   ]
  }
 ]
}