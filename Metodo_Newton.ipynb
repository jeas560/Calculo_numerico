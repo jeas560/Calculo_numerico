{
  "nbformat": 4,
  "nbformat_minor": 0,
  "metadata": {
    "colab": {
      "name": "Metodo_Newton.ipynb",
      "provenance": [],
      "collapsed_sections": [],
      "authorship_tag": "ABX9TyPTDPvY+C3U5z7S6pFKBRop",
      "include_colab_link": true
    },
    "kernelspec": {
      "name": "python3",
      "display_name": "Python 3"
    }
  },
  "cells": [
    {
      "cell_type": "markdown",
      "metadata": {
        "id": "view-in-github",
        "colab_type": "text"
      },
      "source": [
        "<a href=\"https://colab.research.google.com/github/jeas560/Calculo_numerico/blob/main/Metodo_Newton.ipynb\" target=\"_parent\"><img src=\"https://colab.research.google.com/assets/colab-badge.svg\" alt=\"Open In Colab\"/></a>"
      ]
    },
    {
      "cell_type": "markdown",
      "metadata": {
        "id": "m09tkrYnbAUZ"
      },
      "source": [
        "***\n",
        "# Algoritmo do Método de Newton\n",
        "### Exemplo 1 dos Slides\n",
        "***\n",
        "1. Definindo as constantes:\n",
        "$$ \\mbox{tol} = 10.0^{-5} \\\\ \n",
        "   \\mbox{max_iter} = 10 \\\\\n",
        "   \\mbox{k} = 0 \\\\ \n",
        "   \\mbox{valor_inicial} = 1.5 \n",
        "$$\n",
        "2. Inicializando as variaveis:\n",
        "$$\\mbox{x}\\_\\mbox{k} = \\mbox{valor_inicial} \\\\\n",
        "  \\mbox{erro}\\_\\mbox{relativo} = 1.0 \n",
        "$$\n",
        "3. Enquanto $ ( \\mbox{erro}\\_\\mbox{relativo} > \\mbox{tol}) $ e $ ( \\mbox{k} < \\mbox{max}\\_\\mbox{iter}) $:\n",
        "$$\\mbox{x}\\_\\mbox{k}\\_1 = \\mbox{x}\\_\\mbox{k} - \\mbox{f} (\\mbox{x}\\_\\mbox{k})/\\mbox{f}\\_\\mbox{linha} (\\mbox{x}\\_\\mbox{k}) \\\\\n",
        "  \\mbox{k} = \\mbox{k} + 1 \\\\\n",
        "  \\mbox{erro}\\_\\mbox{relativo} = \\frac{ | \\mbox{x}\\_\\mbox{k}\\_1 - \\mbox{x}\\_\\mbox{k} |} {| \\mbox{x}\\_\\mbox{k}\\_1 |} \\\\\n",
        "  \\mbox{x}\\_\\mbox{k} = \\mbox{x}\\_\\mbox{k}\\_1 \n",
        "$$\n",
        "4. Saída $ \\mbox{x}\\_\\mbox{k}\\_1 $\n",
        "***"
      ]
    },
    {
      "cell_type": "code",
      "metadata": {
        "id": "5t3-0m4lheiX"
      },
      "source": [
        "#Importando as bibliotecas utilizadas\n",
        "import numpy as np\n",
        "\n",
        "#Definir as constantes\n",
        "tol = 10.0**(-5)\n",
        "max_iter = 10\n",
        "k = 0\n",
        "valor_inicial = 1.5\n",
        "\n",
        "#Definindo um erro relativo para iniciar as iterações\n",
        "erro_relativo = 1.0\n",
        "\n",
        "#Definir o valor inicial em [1.5,2.5]\n",
        "x_k = valor_inicial\n",
        "print(\"O valor inicial eh: \", valor_inicial)"
      ],
      "execution_count": null,
      "outputs": []
    },
    {
      "cell_type": "code",
      "metadata": {
        "id": "tp7A44-khmKj"
      },
      "source": [
        "#Definindo as funções f(x) = x^2 - x - 2 e f'(x) = 2x - 1\n",
        "def f(x):\n",
        "    return x**2 - x - 2\n",
        "\n",
        "def f_linha(x):\n",
        "    return 2*x - 1"
      ],
      "execution_count": 3,
      "outputs": []
    },
    {
      "cell_type": "code",
      "metadata": {
        "id": "eLmtR5B8hn6y"
      },
      "source": [
        "#Metodo de Newton\n",
        "while (erro_relativo > tol) and (k < max_iter):\n",
        "    \n",
        "    x_k_1 = x_k_1 = x_k - f(x_k)/f_linha(x_k)\n",
        "\n",
        "    #Atualizando o numero do passo\n",
        "    k = k + 1\n",
        "\n",
        "    #Calculando o erro relativo\n",
        "    erro_relativo = np.absolute(x_k_1 - x_k)/np.absolute(x_k_1)\n",
        "    \n",
        "    #Atualizando o valor de x_k para a proxima iteração\n",
        "    x_k = x_k_1\n",
        "\n",
        "    #Printando o valor e passo\n",
        "    print(\"Iteracao:\", k,\", Valor aproximado:\", x_k_1, \", Erro relativo:\", erro_relativo)"
      ],
      "execution_count": null,
      "outputs": []
    },
    {
      "cell_type": "markdown",
      "metadata": {
        "id": "XzArZp8jar6i"
      },
      "source": [
        ""
      ]
    }
  ]
}